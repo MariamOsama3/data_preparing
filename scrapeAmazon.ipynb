{
 "cells": [
  {
   "cell_type": "code",
   "execution_count": 1,
   "metadata": {},
   "outputs": [],
   "source": [
    "from selenium import webdriver"
   ]
  },
  {
   "cell_type": "code",
   "execution_count": 2,
   "metadata": {},
   "outputs": [],
   "source": [
    "fathi=webdriver.Chrome()"
   ]
  },
  {
   "cell_type": "code",
   "execution_count": 7,
   "metadata": {},
   "outputs": [],
   "source": [
    "fathi.get('https://www.amazon.eg/s?k=samsung&rh=p_89%3Asamsung&language=en&ref=SQEG-WEB-SR301')"
   ]
  },
  {
   "cell_type": "code",
   "execution_count": 8,
   "metadata": {},
   "outputs": [],
   "source": [
    "prices=fathi.find_elements(\"xpath\",\"//span[@class='a-price-whole']\")"
   ]
  },
  {
   "cell_type": "code",
   "execution_count": 9,
   "metadata": {},
   "outputs": [],
   "source": [
    "product=fathi.find_elements(\"xpath\",\"//h2[@class='a-size-base-plus a-spacing-none a-color-base a-text-normal']/span\")"
   ]
  },
  {
   "cell_type": "code",
   "execution_count": 10,
   "metadata": {},
   "outputs": [
    {
     "name": "stdout",
     "output_type": "stream",
     "text": [
      "EGP5,298\n",
      "EGP8,070\n",
      "EGP8,199\n",
      "EGP6,900\n",
      "EGP15,290\n",
      "EGP9,460\n",
      "EGP9,810\n",
      "EGP5,299\n",
      "EGP9,810\n",
      "EGP22,999\n",
      "EGP8,070\n",
      "EGP5,999\n",
      "EGP8,199\n",
      "EGP22,499\n",
      "EGP5,166\n",
      "EGP8,800\n",
      "EGP8,800\n",
      "EGP5,599\n",
      "EGP8,800\n",
      "EGP21,299\n",
      "None\n",
      "EGP10,150\n",
      "EGP6,644\n",
      "EGP9,199\n",
      "None\n",
      "None\n",
      "EGP8,799\n",
      "EGP19,999\n",
      "EGP5,999\n",
      "EGP21,666\n",
      "EGP8,070\n",
      "EGP8,760\n",
      "EGP7,370\n",
      "EGP3,495\n",
      "EGP5,999\n",
      "EGP39,500\n",
      "EGP17,399\n",
      "EGP7,370\n",
      "EGP15,499\n",
      "EGP23,999\n",
      "EGP6,299\n",
      "EGP7,370\n",
      "EGP20,729\n",
      "EGP8,888\n",
      "EGP9,999\n",
      "EGP 90,999.00(1 new offer)\n",
      "EGP6,644\n",
      "EGP11,899\n"
     ]
    }
   ],
   "source": [
    "total=fathi.find_elements(\"xpath\",'//div[@class=\"a-section a-spacing-base\"]')\n",
    "for card in total:\n",
    "    lines = card.text.split(\"\\n\")  # Split the text by newlines\n",
    "    price_found = False\n",
    "    for price in lines:\n",
    "        if price.startswith(\"EGP\"):\n",
    "            print(price)\n",
    "            price_found = True\n",
    "            break\n",
    "    if price_found==False:\n",
    "        print(None)"
   ]
  },
  {
   "cell_type": "code",
   "execution_count": 11,
   "metadata": {},
   "outputs": [
    {
     "name": "stdout",
     "output_type": "stream",
     "text": [
      "Galaxy A05s, Android Smartphone, Dual SIM Mobile Phone, 4GB RAM, 64GB Storage, Black- 1 Year Warranty/Local Version\n",
      "Galaxy A16 LTE, Android Smartphone, Dual SIM Mobile Phone, 6GB RAM, 128GB Storage, Black (1 Year Local Warranty)\n",
      "Galaxy A15, Android Smartphone, Dual SIM Mobile Phone, 6GB RAM, 128GB Storage, Black Blue, 1 Year Warranty/Local Version\n",
      "Galaxy A15, Android Smartphone, Dual SIM Mobile Phone, 4GB RAM, 128GB Storage, Light Blue, 1 Year Warranty/Local Version\n",
      "Galaxy A35 5G, Android Smartphone, Dual SIM Mobile Phone, 8GB RAM, 128GB Storage, Awesome Iceblue, 1 Year Warranty/Local Version\n",
      "Galaxy A15, Android Smartphone, Dual SIM Mobile Phone, 8GB RAM, 256GB Storage, Blue Black, 1 Year Warranty/Local Version\n",
      "Galaxy A16 LTE, Android Smartphone, Dual SIM Mobile Phone, 8GB RAM, 256GB Storage, Light Green (1 Year Local Warranty)\n",
      "Galaxy A05s, Android Smartphone, Dual SIM Mobile Phone, 4GB RAM, 64GB Storage, Silver- 1 Year Warranty/Local Version\n",
      "Galaxy A16 LTE, Android Smartphone, Dual SIM Mobile Phone, 8GB RAM, 256GB Storage, Gray (1 Year Local Warranty)\n",
      "Galaxy A55 5G, Android Smartphone, Dual SIM Mobile Phone, 8GB RAM, 256GB Storage, Awesome Navy -1 Year Warranty/Local Version\n",
      "Galaxy A16 LTE, Android Smartphone, Dual SIM Mobile Phone, 6GB RAM, 128GB Storage, Gray, 1 Year Warranty/Local Version\n",
      "Galaxy A05 LTE, Android Smartphone, Dual SIM Mobile Phone, 4GB RAM, 128GB Storage, Light Green- 1 Year Warranty/Local Version\n",
      "Galaxy A15, Android Smartphone, Dual SIM Mobile Phone, 6GB RAM, 128GB Storage, Light Blue, 1 Year Warranty/Local Version\n",
      "Galaxy A55 5G, Android Smartphone, Dual SIM Mobile Phone, 8GB RAM, 128GB Storage, Awesome Navy -1 Year Warranty/Local Version\n",
      "Canister Vacuum Cleaner Model VC20M2510WB/SG, 2000 WATT, 2.5 L 1 Year Brand Warranty, Multi Color- (local warranty)\n",
      "Galaxy Tab A9 LTE Android Tablet, 8GB RAM, 128GB Storage, Silver - 1 Year Warranty/Local Version\n",
      "Galaxy Tab A9 LTE Android Tablet, 8GB RAM, 128GB Storage, Graphite\n",
      "Galaxy A05 LTE, Android Smartphone, Dual SIM Mobile Phone, 4GB RAM, 64GB Storage,Silver- 1 Year Warranty/Local Version\n",
      "Galaxy Tab A9 LTE Android Tablet, 8GB RAM, 128GB Storage, Navy\n",
      "Galaxy A55 5G, Android Smartphone, Dual SIM Mobile Phone, 8GB RAM, 128GB Storage, Awesome Lilac -1 Year Warranty/Local Version\n",
      "Galaxy A54 - Dual SIM Mobile Phone Android, 8GB RAM, 256GB, 5G, Awesome White - 1 year Warranty\n",
      "Galaxy A15, Android Smartphone, Dual SIM Mobile Phone, 8GB RAM, 256GB Storage, Light Blue, 1 Year Warranty/Local Version\n",
      "Galaxy A06 Dual Sim 6GB RAM 128GB Storage Android Smartphone, 6.7-Inch Screen Size, Black- 1 Year Warranty/Local Version\n",
      "Galaxy Buds3 Pro, Wireless Bluetooth Earbuds with Adaptive: Noise Control, Hi-Fi Sound, 360 Audio-Silver - 1 Year Local Warranty\n",
      "Galaxy A23 Dual Sim,128 GB, 4GB Ram - Peach\n",
      "A04S 3GB Ram, 32GB - Black\n",
      "Galaxy A15, Android Smartphone, Dual SIM Mobile Phone, 8GB RAM, 256GB Storage, Yellow, 1 Year Warranty/Local Version\n",
      "Galaxy A55 5G, Android Smartphone, Dual SIM Mobile Phone, 8GB RAM, 128GB Storage, Awesome Lemon -1 Year Warranty/Local Version\n",
      "Galaxy A05 LTE, Android Smartphone, Dual SIM Mobile Phone, 4GB RAM, 128GB Storage,Silver- 1 Year Warranty/Local Version\n",
      "Galaxy A55 5G, Android Smartphone, Dual SIM Mobile Phone, 8GB RAM, 128GB Storage, Awesome Iceblue -1 Year Warranty/Local Version\n",
      "Galaxy A16 LTE, Android Smartphone, Dual SIM Mobile Phone, 6GB RAM, 128GB Storage, Light Green (1 Year Local Warranty)\n",
      "Microwave oven 32 L, Tact & Dial, LED Display, Black (local warranty)\n",
      "Galaxy A16 LTE, Android Smartphone, Dual SIM Mobile Phone, 4GB RAM, 128GB Storage, Gray (1 Year Local Warranty)\n",
      "Galaxy Buds FE, Wireless Earbuds, with Charging Case, Active Noise-Cancelling and Sound Customization, Graphite-1 Year Local Warranty\n",
      "Galaxy A05s, Android Smartphone, Dual SIM Mobile Phone, LTE, 4GB RAM, 64GB Storage, Violet, 1 Year Warranty/Local Version\n",
      "Galaxy S24 FE, AI Phone, Android Smartphone, 8GB RAM, 256GB Storage, 50MP Camera, Long Battery Life, Blue- 1 Year Warranty/Local Version\n",
      "50 Inch 4K UHD Smart LED TV - Black - UA50DU7000UXEG [2024 Model]\n",
      "Galaxy A16 LTE, Android Smartphone, Dual SIM Mobile Phone, 4GB RAM, 128GB Storage, Light Green (1 Year Local Warranty)\n",
      "43 Inch TV Crystal Processor 4K LED - Titan Gray - UA43DU8000UXEG [2024 Model]\n",
      "65 Inch 4K UHD Smart LED TV - Black - UA65DU7000UXEG [2024 Model]\n",
      "Galaxy Buds3, Silver, Wireless Bluetooth Earbuds with Adaptive EQ/ANC, Hi-Fi Sound, 360 Audio, 1 Year Local Warranty\n",
      "Galaxy A16 LTE, Android Smartphone, Dual SIM Mobile Phone, 4GB RAM, 128GB Storage, Black (1 Year Local Warranty)\n",
      "Top Load Washing Machine 19KG WA19CG6886BVAS Inverter Smart Black (local warranty)\n",
      "Galaxy A06 Dual Sim 6GB RAM 128GB Storage Android Smartphone, 6.7-Inch Screen Size, Black and Samsung Galaxy Buds FE, Wireless, with Charging Case, ANC and Sound Customization, Graphite\n",
      "40 Inch Full HD Smart LED TV with Built-in Receiver - Black - UA40T5300AUXEG\n",
      "Galaxy S24 Ultra, AI Phone, 256GB Storage, Titanium Black, 12GB RAM, Android Smartphone, 200MP Camera, S Pen, Long Battery Life\n",
      "Galaxy A06 Dual Sim 6GB RAM 128GB Storage Android Smartphone, 6.7-Inch Screen Size, Gold- 1 Year Warranty/Local Version\n",
      "Odyssey G50D, 27-Inch Fast IPS panel, 2K QHD (2560 x 1440), Refresh Rate 180Hz & Response Time 1ms(GTG) Gaming Computer Monitor, AMD FreeSync, G-Sync Compatible\n"
     ]
    }
   ],
   "source": [
    "for card in total:\n",
    "    lines=card.text.split(\"\\n\")\n",
    "    if lines[0].startswith('SAMSUNG'):\n",
    "        print(lines[1])\n",
    "    else :\n",
    "        print(lines[2])"
   ]
  },
  {
   "cell_type": "code",
   "execution_count": 12,
   "metadata": {},
   "outputs": [
    {
     "name": "stdout",
     "output_type": "stream",
     "text": [
      "None\n",
      "3 sizes\n",
      "None\n",
      "None\n",
      "None\n",
      "None\n",
      "3 sizes\n",
      "None\n",
      "3 sizes\n",
      "2 sizes\n",
      "3 sizes\n",
      "2 sizes\n",
      "None\n",
      "2 sizes\n",
      "None\n",
      "2 sizes\n",
      "2 sizes\n",
      "2 sizes\n",
      "2 sizes\n",
      "2 sizes\n",
      "None\n",
      "None\n",
      "None\n",
      "None\n",
      "None\n",
      "None\n",
      "None\n",
      "2 sizes\n",
      "None\n",
      "2 sizes\n",
      "None\n",
      "None\n",
      "3 sizes\n",
      "None\n",
      "None\n",
      "4 sizes\n",
      "7 sizes\n",
      "3 sizes\n",
      "6 sizes\n",
      "7 sizes\n",
      "None\n",
      "None\n",
      "None\n",
      "None\n",
      "None\n",
      "4 sizes\n",
      "None\n",
      "2 sizes\n"
     ]
    }
   ],
   "source": [
    "for card in total:\n",
    "    lines=card.text.split(\"\\n\")\n",
    "    option_founde=False\n",
    "    for i, options in enumerate(lines):\n",
    "        if options.startswith(\"Options\"):\n",
    "            print(lines[i+1])\n",
    "            option_founde=True\n",
    "    if option_founde==False:\n",
    "        print(None)"
   ]
  },
  {
   "cell_type": "code",
   "execution_count": 13,
   "metadata": {},
   "outputs": [
    {
     "name": "stdout",
     "output_type": "stream",
     "text": [
      "1057\n",
      "2\n",
      "2986\n",
      "2986\n",
      "221\n",
      "2986\n",
      "2\n",
      "1057\n",
      "2\n",
      "848\n",
      "2\n",
      "219\n",
      "2986\n",
      "848\n",
      "202\n",
      "306\n",
      "306\n",
      "219\n",
      "306\n",
      "848\n",
      "152\n",
      "2986\n",
      "1\n",
      "140\n",
      "45\n",
      "50\n",
      "2986\n",
      "848\n",
      "148\n",
      "848\n",
      "2\n",
      "15\n",
      "2\n",
      "388\n",
      "136\n",
      "1556\n",
      "135\n",
      "2\n",
      "101\n",
      "135\n",
      "59\n",
      "1\n",
      "6\n",
      "null\n",
      "412\n",
      "1556\n",
      "1\n",
      "31\n"
     ]
    }
   ],
   "source": [
    "for card in total:\n",
    "    lines = card.text.split(\"\\n\")  # Split the card text into lines\n",
    "    found_rate = False\n",
    "    for rate in lines:\n",
    "        rate_cleaned = rate.replace(\",\", \"\")  \n",
    "        if rate_cleaned.isdigit() and rate_cleaned != '00': \n",
    "            found_rate = True\n",
    "            print(rate_cleaned)\n",
    "            break\n",
    "    if found_rate==False:\n",
    "        print(\"null\")\n"
   ]
  },
  {
   "cell_type": "code",
   "execution_count": 14,
   "metadata": {},
   "outputs": [],
   "source": [
    "image = fathi.find_elements(\"xpath\" , '//div[@class =\"a-section aok-relative s-image-square-aspect\"]')"
   ]
  },
  {
   "cell_type": "code",
   "execution_count": 15,
   "metadata": {},
   "outputs": [
    {
     "name": "stdout",
     "output_type": "stream",
     "text": [
      "https://m.media-amazon.com/images/I/61Ll0048EIL._AC_UL320_.jpg\n",
      "https://m.media-amazon.com/images/I/61Lp1UcxeLL._AC_UL320_.jpg\n",
      "https://m.media-amazon.com/images/I/61isHdQ+TDL._AC_UL320_.jpg\n",
      "https://m.media-amazon.com/images/I/61cl1NEIrdL._AC_UL320_.jpg\n",
      "https://m.media-amazon.com/images/I/61Wp5qhgwzL._AC_UL320_.jpg\n",
      "https://m.media-amazon.com/images/I/514nSB8S9pL._AC_UL320_.jpg\n",
      "https://m.media-amazon.com/images/I/61cmlEY2jsL._AC_UL320_.jpg\n",
      "https://m.media-amazon.com/images/I/61BDP4KDY3L._AC_UL320_.jpg\n",
      "https://m.media-amazon.com/images/I/61lzvL4tAqL._AC_UL320_.jpg\n",
      "https://m.media-amazon.com/images/I/61ERH+yIyiL._AC_UL320_.jpg\n",
      "https://m.media-amazon.com/images/I/61lzvL4tAqL._AC_UL320_.jpg\n",
      "https://m.media-amazon.com/images/I/71ve-OMxzyL._AC_UL320_.jpg\n",
      "https://m.media-amazon.com/images/I/61cl1NEIrdL._AC_UL320_.jpg\n",
      "https://m.media-amazon.com/images/I/61ERH+yIyiL._AC_UL320_.jpg\n",
      "https://m.media-amazon.com/images/I/61YbjOXazxL._AC_UL320_.jpg\n",
      "https://m.media-amazon.com/images/I/51-NZ55zHBL._AC_UL320_.jpg\n",
      "https://m.media-amazon.com/images/I/51OIq5aut4L._AC_UL320_.jpg\n",
      "https://m.media-amazon.com/images/I/71-QzvIZnVL._AC_UL320_.jpg\n",
      "https://m.media-amazon.com/images/I/51o87ZkAYLL._AC_UL320_.jpg\n",
      "https://m.media-amazon.com/images/I/71HHuzT9m2L._AC_UL320_.jpg\n",
      "https://m.media-amazon.com/images/I/71b60-HHxjL._AC_UL320_.jpg\n",
      "https://m.media-amazon.com/images/I/51Cida8RecL._AC_UL320_.jpg\n",
      "https://m.media-amazon.com/images/I/71OVNSFWVLL._AC_UL320_.jpg\n",
      "https://m.media-amazon.com/images/I/61JHEfCeJOL._AC_UL320_.jpg\n",
      "https://m.media-amazon.com/images/I/81HwkqsPaIL._AC_UL320_.jpg\n",
      "https://m.media-amazon.com/images/I/51P4huodC+L._AC_UL320_.jpg\n",
      "https://m.media-amazon.com/images/I/51QkPENTlTL._AC_UL320_.jpg\n",
      "https://m.media-amazon.com/images/I/71Azxw1VWeL._AC_UL320_.jpg\n",
      "https://m.media-amazon.com/images/I/71-QzvIZnVL._AC_UL320_.jpg\n",
      "https://m.media-amazon.com/images/I/61V7NjE8V+L._AC_UL320_.jpg\n",
      "https://m.media-amazon.com/images/I/61cmlEY2jsL._AC_UL320_.jpg\n",
      "https://m.media-amazon.com/images/I/61lzhA0IVHL._AC_UL320_.jpg\n",
      "https://m.media-amazon.com/images/I/61lzvL4tAqL._AC_UL320_.jpg\n",
      "https://m.media-amazon.com/images/I/51dqohRAsqL._AC_UL320_.jpg\n",
      "https://m.media-amazon.com/images/I/61puMCL7onL._AC_UL320_.jpg\n",
      "https://m.media-amazon.com/images/I/61K0Mn9wu0L._AC_UL320_.jpg\n",
      "https://m.media-amazon.com/images/I/61B7dn9ZUYL._AC_UL320_.jpg\n",
      "https://m.media-amazon.com/images/I/61cmlEY2jsL._AC_UL320_.jpg\n",
      "https://m.media-amazon.com/images/I/61mSsqaxrHL._AC_UL320_.jpg\n",
      "https://m.media-amazon.com/images/I/61v86Il5XHL._AC_UL320_.jpg\n",
      "https://m.media-amazon.com/images/I/61gBZoxml0L._AC_UL320_.jpg\n",
      "https://m.media-amazon.com/images/I/61Lp1UcxeLL._AC_UL320_.jpg\n",
      "https://m.media-amazon.com/images/I/516WD9nBeiL._AC_UL320_.jpg\n",
      "https://m.media-amazon.com/images/I/71uf2aP1PAL._AC_UL320_.jpg\n",
      "https://m.media-amazon.com/images/I/61pWfDIRxmL._AC_UL320_.jpg\n",
      "https://m.media-amazon.com/images/I/719HV2e6-sL._AC_UL320_.jpg\n",
      "https://m.media-amazon.com/images/I/61lHDUVpiKL._AC_UL320_.jpg\n",
      "https://m.media-amazon.com/images/I/810Sytc27aL._AC_UL320_.jpg\n"
     ]
    }
   ],
   "source": [
    "for i in image:\n",
    "    img=i.find_element(\"tag name\" , \"img\")\n",
    "    print(img.get_attribute(\"src\"))"
   ]
  }
 ],
 "metadata": {
  "kernelspec": {
   "display_name": "Python 3",
   "language": "python",
   "name": "python3"
  },
  "language_info": {
   "codemirror_mode": {
    "name": "ipython",
    "version": 3
   },
   "file_extension": ".py",
   "mimetype": "text/x-python",
   "name": "python",
   "nbconvert_exporter": "python",
   "pygments_lexer": "ipython3",
   "version": "3.13.0"
  }
 },
 "nbformat": 4,
 "nbformat_minor": 2
}
